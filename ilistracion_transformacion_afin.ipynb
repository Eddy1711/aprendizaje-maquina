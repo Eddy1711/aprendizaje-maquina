{
  "nbformat": 4,
  "nbformat_minor": 0,
  "metadata": {
    "colab": {
      "provenance": []
    },
    "kernelspec": {
      "name": "python3",
      "display_name": "Python 3"
    },
    "language_info": {
      "name": "python"
    }
  },
  "cells": [
    {
      "cell_type": "code",
      "source": [
        "import numpy as np\n",
        "import matplotlib.pyplot as plt\n",
        "import matplotlib.patches as patches"
      ],
      "metadata": {
        "id": "_8KYuBbfTTs9"
      },
      "execution_count": 1,
      "outputs": []
    },
    {
      "cell_type": "code",
      "execution_count": 5,
      "metadata": {
        "colab": {
          "base_uri": "https://localhost:8080/",
          "height": 435
        },
        "id": "Q0USZAqEGATW",
        "outputId": "a59c0d1a-429c-49fb-b872-fb42df8af517"
      },
      "outputs": [
        {
          "output_type": "display_data",
          "data": {
            "text/plain": [
              "<Figure size 640x480 with 1 Axes>"
            ],
            "image/png": "[encoded data removed]"
          },
          "metadata": {}
        }
      ],
      "source": [
        "def apply_affine_transform(points, theta, s1, s2, h, b):\n",
        "    # Define las matrices de rotación, escalado y cizallamiento\n",
        "    R = np.array([[np.cos(theta), -np.sin(theta)],\n",
        "                  [np.sin(theta), np.cos(theta)]])\n",
        "    S = np.array([[s1, 0],\n",
        "                  [0, s2]])\n",
        "    H = np.array([[1, h],\n",
        "                  [0, 1]])\n",
        "\n",
        "    # Combinar las matrices R, S y H para obtener A\n",
        "    A = R @ S @ H\n",
        "\n",
        "    # Aplicar la transformación afín\n",
        "    transformed_points = A @ points + b[:, np.newaxis]\n",
        "\n",
        "    return transformed_points\n",
        "\n",
        "# Definir puntos del cuadrado original\n",
        "square_points = np.array([[0, 1, 1, 0],\n",
        "                          [0, 0, 1, 1]])\n",
        "\n",
        "# Parámetros de la transformación\n",
        "theta = np.pi / 4  # Rotación de 45 grados\n",
        "s1, s2 = 1, 1  # Sin cambio de escala\n",
        "h = 0.5  # Cizallamiento\n",
        "b = np.array([2, 1])  # Traslación\n",
        "\n",
        "# Aplicar la transformación afín\n",
        "transformed_square = apply_affine_transform(square_points, theta, s1, s2, h, b)\n",
        "\n",
        "# Visualizar el cuadrado original y el transformado\n",
        "fig, ax = plt.subplots()\n",
        "ax.set_aspect('equal')\n",
        "ax.add_patch(patches.Polygon(square_points.T, fill=False, edgecolor='blue', label='Original'))\n",
        "ax.add_patch(patches.Polygon(transformed_square.T, fill=False, edgecolor='red', label='Transformed'))\n",
        "ax.set_xlim(-1, 4)\n",
        "ax.set_ylim(-1, 4)\n",
        "ax.legend()\n",
        "plt.show()\n"
      ]
    }
  ]
}